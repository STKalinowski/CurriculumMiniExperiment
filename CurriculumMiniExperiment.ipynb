{
  "nbformat": 4,
  "nbformat_minor": 0,
  "metadata": {
    "colab": {
      "provenance": [],
      "gpuType": "T4",
      "authorship_tag": "ABX9TyN5Lvtvn8JIfUD5nIQr5QCa",
      "include_colab_link": true
    },
    "kernelspec": {
      "name": "python3",
      "display_name": "Python 3"
    },
    "language_info": {
      "name": "python"
    },
    "accelerator": "GPU",
    "widgets": {
      "application/vnd.jupyter.widget-state+json": {
        "954ca0decb3446bb99a3ed386b1f246b": {
          "model_module": "@jupyter-widgets/controls",
          "model_name": "VBoxModel",
          "model_module_version": "1.5.0",
          "state": {
            "_dom_classes": [],
            "_model_module": "@jupyter-widgets/controls",
            "_model_module_version": "1.5.0",
            "_model_name": "VBoxModel",
            "_view_count": null,
            "_view_module": "@jupyter-widgets/controls",
            "_view_module_version": "1.5.0",
            "_view_name": "VBoxView",
            "box_style": "",
            "children": [
              "IPY_MODEL_6e2b69728429477f9c9a20b6a4f2963e",
              "IPY_MODEL_14ff381939a942978c30d04e368d37c3"
            ],
            "layout": "IPY_MODEL_a42c230880ad494094969fd8953c4fdc"
          }
        },
        "6e2b69728429477f9c9a20b6a4f2963e": {
          "model_module": "@jupyter-widgets/controls",
          "model_name": "LabelModel",
          "model_module_version": "1.5.0",
          "state": {
            "_dom_classes": [],
            "_model_module": "@jupyter-widgets/controls",
            "_model_module_version": "1.5.0",
            "_model_name": "LabelModel",
            "_view_count": null,
            "_view_module": "@jupyter-widgets/controls",
            "_view_module_version": "1.5.0",
            "_view_name": "LabelView",
            "description": "",
            "description_tooltip": null,
            "layout": "IPY_MODEL_36ef55f36f8e4d6793e825adba6fc739",
            "placeholder": "​",
            "style": "IPY_MODEL_64ee451bee854fe4ab3c85adf16937d0",
            "value": "0.240 MB of 0.240 MB uploaded (0.000 MB deduped)\r"
          }
        },
        "14ff381939a942978c30d04e368d37c3": {
          "model_module": "@jupyter-widgets/controls",
          "model_name": "FloatProgressModel",
          "model_module_version": "1.5.0",
          "state": {
            "_dom_classes": [],
            "_model_module": "@jupyter-widgets/controls",
            "_model_module_version": "1.5.0",
            "_model_name": "FloatProgressModel",
            "_view_count": null,
            "_view_module": "@jupyter-widgets/controls",
            "_view_module_version": "1.5.0",
            "_view_name": "ProgressView",
            "bar_style": "",
            "description": "",
            "description_tooltip": null,
            "layout": "IPY_MODEL_e543ff4f280a455da73472f026ccd67f",
            "max": 1,
            "min": 0,
            "orientation": "horizontal",
            "style": "IPY_MODEL_e434d9fe564d4d24bc40d8de5b83bea5",
            "value": 1
          }
        },
        "a42c230880ad494094969fd8953c4fdc": {
          "model_module": "@jupyter-widgets/base",
          "model_name": "LayoutModel",
          "model_module_version": "1.2.0",
          "state": {
            "_model_module": "@jupyter-widgets/base",
            "_model_module_version": "1.2.0",
            "_model_name": "LayoutModel",
            "_view_count": null,
            "_view_module": "@jupyter-widgets/base",
            "_view_module_version": "1.2.0",
            "_view_name": "LayoutView",
            "align_content": null,
            "align_items": null,
            "align_self": null,
            "border": null,
            "bottom": null,
            "display": null,
            "flex": null,
            "flex_flow": null,
            "grid_area": null,
            "grid_auto_columns": null,
            "grid_auto_flow": null,
            "grid_auto_rows": null,
            "grid_column": null,
            "grid_gap": null,
            "grid_row": null,
            "grid_template_areas": null,
            "grid_template_columns": null,
            "grid_template_rows": null,
            "height": null,
            "justify_content": null,
            "justify_items": null,
            "left": null,
            "margin": null,
            "max_height": null,
            "max_width": null,
            "min_height": null,
            "min_width": null,
            "object_fit": null,
            "object_position": null,
            "order": null,
            "overflow": null,
            "overflow_x": null,
            "overflow_y": null,
            "padding": null,
            "right": null,
            "top": null,
            "visibility": null,
            "width": null
          }
        },
        "36ef55f36f8e4d6793e825adba6fc739": {
          "model_module": "@jupyter-widgets/base",
          "model_name": "LayoutModel",
          "model_module_version": "1.2.0",
          "state": {
            "_model_module": "@jupyter-widgets/base",
            "_model_module_version": "1.2.0",
            "_model_name": "LayoutModel",
            "_view_count": null,
            "_view_module": "@jupyter-widgets/base",
            "_view_module_version": "1.2.0",
            "_view_name": "LayoutView",
            "align_content": null,
            "align_items": null,
            "align_self": null,
            "border": null,
            "bottom": null,
            "display": null,
            "flex": null,
            "flex_flow": null,
            "grid_area": null,
            "grid_auto_columns": null,
            "grid_auto_flow": null,
            "grid_auto_rows": null,
            "grid_column": null,
            "grid_gap": null,
            "grid_row": null,
            "grid_template_areas": null,
            "grid_template_columns": null,
            "grid_template_rows": null,
            "height": null,
            "justify_content": null,
            "justify_items": null,
            "left": null,
            "margin": null,
            "max_height": null,
            "max_width": null,
            "min_height": null,
            "min_width": null,
            "object_fit": null,
            "object_position": null,
            "order": null,
            "overflow": null,
            "overflow_x": null,
            "overflow_y": null,
            "padding": null,
            "right": null,
            "top": null,
            "visibility": null,
            "width": null
          }
        },
        "64ee451bee854fe4ab3c85adf16937d0": {
          "model_module": "@jupyter-widgets/controls",
          "model_name": "DescriptionStyleModel",
          "model_module_version": "1.5.0",
          "state": {
            "_model_module": "@jupyter-widgets/controls",
            "_model_module_version": "1.5.0",
            "_model_name": "DescriptionStyleModel",
            "_view_count": null,
            "_view_module": "@jupyter-widgets/base",
            "_view_module_version": "1.2.0",
            "_view_name": "StyleView",
            "description_width": ""
          }
        },
        "e543ff4f280a455da73472f026ccd67f": {
          "model_module": "@jupyter-widgets/base",
          "model_name": "LayoutModel",
          "model_module_version": "1.2.0",
          "state": {
            "_model_module": "@jupyter-widgets/base",
            "_model_module_version": "1.2.0",
            "_model_name": "LayoutModel",
            "_view_count": null,
            "_view_module": "@jupyter-widgets/base",
            "_view_module_version": "1.2.0",
            "_view_name": "LayoutView",
            "align_content": null,
            "align_items": null,
            "align_self": null,
            "border": null,
            "bottom": null,
            "display": null,
            "flex": null,
            "flex_flow": null,
            "grid_area": null,
            "grid_auto_columns": null,
            "grid_auto_flow": null,
            "grid_auto_rows": null,
            "grid_column": null,
            "grid_gap": null,
            "grid_row": null,
            "grid_template_areas": null,
            "grid_template_columns": null,
            "grid_template_rows": null,
            "height": null,
            "justify_content": null,
            "justify_items": null,
            "left": null,
            "margin": null,
            "max_height": null,
            "max_width": null,
            "min_height": null,
            "min_width": null,
            "object_fit": null,
            "object_position": null,
            "order": null,
            "overflow": null,
            "overflow_x": null,
            "overflow_y": null,
            "padding": null,
            "right": null,
            "top": null,
            "visibility": null,
            "width": null
          }
        },
        "e434d9fe564d4d24bc40d8de5b83bea5": {
          "model_module": "@jupyter-widgets/controls",
          "model_name": "ProgressStyleModel",
          "model_module_version": "1.5.0",
          "state": {
            "_model_module": "@jupyter-widgets/controls",
            "_model_module_version": "1.5.0",
            "_model_name": "ProgressStyleModel",
            "_view_count": null,
            "_view_module": "@jupyter-widgets/base",
            "_view_module_version": "1.2.0",
            "_view_name": "StyleView",
            "bar_color": null,
            "description_width": ""
          }
        },
        "e46455db47a64a42ad8811d2c22d8104": {
          "model_module": "@jupyter-widgets/controls",
          "model_name": "VBoxModel",
          "model_module_version": "1.5.0",
          "state": {
            "_dom_classes": [],
            "_model_module": "@jupyter-widgets/controls",
            "_model_module_version": "1.5.0",
            "_model_name": "VBoxModel",
            "_view_count": null,
            "_view_module": "@jupyter-widgets/controls",
            "_view_module_version": "1.5.0",
            "_view_name": "VBoxView",
            "box_style": "",
            "children": [
              "IPY_MODEL_e49533fb03754ede98595155c8181c79",
              "IPY_MODEL_53e1dbe0f1774a91979b2f1036e5956e"
            ],
            "layout": "IPY_MODEL_1e9bc2f4fb8947acad6b087623bf6c5c"
          }
        },
        "e49533fb03754ede98595155c8181c79": {
          "model_module": "@jupyter-widgets/controls",
          "model_name": "LabelModel",
          "model_module_version": "1.5.0",
          "state": {
            "_dom_classes": [],
            "_model_module": "@jupyter-widgets/controls",
            "_model_module_version": "1.5.0",
            "_model_name": "LabelModel",
            "_view_count": null,
            "_view_module": "@jupyter-widgets/controls",
            "_view_module_version": "1.5.0",
            "_view_name": "LabelView",
            "description": "",
            "description_tooltip": null,
            "layout": "IPY_MODEL_f8b57ea6ba8c46b6b789412a4b533d44",
            "placeholder": "​",
            "style": "IPY_MODEL_4d0123dd6c1643d2bcb48618f76c39f5",
            "value": "0.001 MB of 0.012 MB uploaded (0.000 MB deduped)\r"
          }
        },
        "53e1dbe0f1774a91979b2f1036e5956e": {
          "model_module": "@jupyter-widgets/controls",
          "model_name": "FloatProgressModel",
          "model_module_version": "1.5.0",
          "state": {
            "_dom_classes": [],
            "_model_module": "@jupyter-widgets/controls",
            "_model_module_version": "1.5.0",
            "_model_name": "FloatProgressModel",
            "_view_count": null,
            "_view_module": "@jupyter-widgets/controls",
            "_view_module_version": "1.5.0",
            "_view_name": "ProgressView",
            "bar_style": "",
            "description": "",
            "description_tooltip": null,
            "layout": "IPY_MODEL_4afeed2b6c6246deb3eb251fe6cc249f",
            "max": 1,
            "min": 0,
            "orientation": "horizontal",
            "style": "IPY_MODEL_a1b23daa83d9411aae8411e09eb84a87",
            "value": 0.0953148939601645
          }
        },
        "1e9bc2f4fb8947acad6b087623bf6c5c": {
          "model_module": "@jupyter-widgets/base",
          "model_name": "LayoutModel",
          "model_module_version": "1.2.0",
          "state": {
            "_model_module": "@jupyter-widgets/base",
            "_model_module_version": "1.2.0",
            "_model_name": "LayoutModel",
            "_view_count": null,
            "_view_module": "@jupyter-widgets/base",
            "_view_module_version": "1.2.0",
            "_view_name": "LayoutView",
            "align_content": null,
            "align_items": null,
            "align_self": null,
            "border": null,
            "bottom": null,
            "display": null,
            "flex": null,
            "flex_flow": null,
            "grid_area": null,
            "grid_auto_columns": null,
            "grid_auto_flow": null,
            "grid_auto_rows": null,
            "grid_column": null,
            "grid_gap": null,
            "grid_row": null,
            "grid_template_areas": null,
            "grid_template_columns": null,
            "grid_template_rows": null,
            "height": null,
            "justify_content": null,
            "justify_items": null,
            "left": null,
            "margin": null,
            "max_height": null,
            "max_width": null,
            "min_height": null,
            "min_width": null,
            "object_fit": null,
            "object_position": null,
            "order": null,
            "overflow": null,
            "overflow_x": null,
            "overflow_y": null,
            "padding": null,
            "right": null,
            "top": null,
            "visibility": null,
            "width": null
          }
        },
        "f8b57ea6ba8c46b6b789412a4b533d44": {
          "model_module": "@jupyter-widgets/base",
          "model_name": "LayoutModel",
          "model_module_version": "1.2.0",
          "state": {
            "_model_module": "@jupyter-widgets/base",
            "_model_module_version": "1.2.0",
            "_model_name": "LayoutModel",
            "_view_count": null,
            "_view_module": "@jupyter-widgets/base",
            "_view_module_version": "1.2.0",
            "_view_name": "LayoutView",
            "align_content": null,
            "align_items": null,
            "align_self": null,
            "border": null,
            "bottom": null,
            "display": null,
            "flex": null,
            "flex_flow": null,
            "grid_area": null,
            "grid_auto_columns": null,
            "grid_auto_flow": null,
            "grid_auto_rows": null,
            "grid_column": null,
            "grid_gap": null,
            "grid_row": null,
            "grid_template_areas": null,
            "grid_template_columns": null,
            "grid_template_rows": null,
            "height": null,
            "justify_content": null,
            "justify_items": null,
            "left": null,
            "margin": null,
            "max_height": null,
            "max_width": null,
            "min_height": null,
            "min_width": null,
            "object_fit": null,
            "object_position": null,
            "order": null,
            "overflow": null,
            "overflow_x": null,
            "overflow_y": null,
            "padding": null,
            "right": null,
            "top": null,
            "visibility": null,
            "width": null
          }
        },
        "4d0123dd6c1643d2bcb48618f76c39f5": {
          "model_module": "@jupyter-widgets/controls",
          "model_name": "DescriptionStyleModel",
          "model_module_version": "1.5.0",
          "state": {
            "_model_module": "@jupyter-widgets/controls",
            "_model_module_version": "1.5.0",
            "_model_name": "DescriptionStyleModel",
            "_view_count": null,
            "_view_module": "@jupyter-widgets/base",
            "_view_module_version": "1.2.0",
            "_view_name": "StyleView",
            "description_width": ""
          }
        },
        "4afeed2b6c6246deb3eb251fe6cc249f": {
          "model_module": "@jupyter-widgets/base",
          "model_name": "LayoutModel",
          "model_module_version": "1.2.0",
          "state": {
            "_model_module": "@jupyter-widgets/base",
            "_model_module_version": "1.2.0",
            "_model_name": "LayoutModel",
            "_view_count": null,
            "_view_module": "@jupyter-widgets/base",
            "_view_module_version": "1.2.0",
            "_view_name": "LayoutView",
            "align_content": null,
            "align_items": null,
            "align_self": null,
            "border": null,
            "bottom": null,
            "display": null,
            "flex": null,
            "flex_flow": null,
            "grid_area": null,
            "grid_auto_columns": null,
            "grid_auto_flow": null,
            "grid_auto_rows": null,
            "grid_column": null,
            "grid_gap": null,
            "grid_row": null,
            "grid_template_areas": null,
            "grid_template_columns": null,
            "grid_template_rows": null,
            "height": null,
            "justify_content": null,
            "justify_items": null,
            "left": null,
            "margin": null,
            "max_height": null,
            "max_width": null,
            "min_height": null,
            "min_width": null,
            "object_fit": null,
            "object_position": null,
            "order": null,
            "overflow": null,
            "overflow_x": null,
            "overflow_y": null,
            "padding": null,
            "right": null,
            "top": null,
            "visibility": null,
            "width": null
          }
        },
        "a1b23daa83d9411aae8411e09eb84a87": {
          "model_module": "@jupyter-widgets/controls",
          "model_name": "ProgressStyleModel",
          "model_module_version": "1.5.0",
          "state": {
            "_model_module": "@jupyter-widgets/controls",
            "_model_module_version": "1.5.0",
            "_model_name": "ProgressStyleModel",
            "_view_count": null,
            "_view_module": "@jupyter-widgets/base",
            "_view_module_version": "1.2.0",
            "_view_name": "StyleView",
            "bar_color": null,
            "description_width": ""
          }
        }
      }
    }
  },
  "cells": [
    {
      "cell_type": "markdown",
      "metadata": {
        "id": "view-in-github",
        "colab_type": "text"
      },
      "source": [
        "<a href=\"https://colab.research.google.com/github/STKalinowski/CurriculumMiniExperiment/blob/main/CurriculumMiniExperiment.ipynb\" target=\"_parent\"><img src=\"https://colab.research.google.com/assets/colab-badge.svg\" alt=\"Open In Colab\"/></a>"
      ]
    },
    {
      "cell_type": "code",
      "source": [
        "!pip install wandb"
      ],
      "metadata": {
        "colab": {
          "base_uri": "https://localhost:8080/"
        },
        "id": "r2-yDSnFRAs7",
        "outputId": "4a45d62c-599e-4d29-d52d-b1434f090133"
      },
      "execution_count": 1,
      "outputs": [
        {
          "output_type": "stream",
          "name": "stdout",
          "text": [
            "Collecting wandb\n",
            "  Downloading wandb-0.15.5-py3-none-any.whl (2.1 MB)\n",
            "\u001b[2K     \u001b[90m━━━━━━━━━━━━━━━━━━━━━━━━━━━━━━━━━━━━━━━━\u001b[0m \u001b[32m2.1/2.1 MB\u001b[0m \u001b[31m28.4 MB/s\u001b[0m eta \u001b[36m0:00:00\u001b[0m\n",
            "\u001b[?25hRequirement already satisfied: Click!=8.0.0,>=7.1 in /usr/local/lib/python3.10/dist-packages (from wandb) (8.1.3)\n",
            "Collecting GitPython!=3.1.29,>=1.0.0 (from wandb)\n",
            "  Downloading GitPython-3.1.31-py3-none-any.whl (184 kB)\n",
            "\u001b[2K     \u001b[90m━━━━━━━━━━━━━━━━━━━━━━━━━━━━━━━━━━━━━━\u001b[0m \u001b[32m184.3/184.3 kB\u001b[0m \u001b[31m23.2 MB/s\u001b[0m eta \u001b[36m0:00:00\u001b[0m\n",
            "\u001b[?25hRequirement already satisfied: requests<3,>=2.0.0 in /usr/local/lib/python3.10/dist-packages (from wandb) (2.27.1)\n",
            "Requirement already satisfied: psutil>=5.0.0 in /usr/local/lib/python3.10/dist-packages (from wandb) (5.9.5)\n",
            "Collecting sentry-sdk>=1.0.0 (from wandb)\n",
            "  Downloading sentry_sdk-1.27.1-py2.py3-none-any.whl (211 kB)\n",
            "\u001b[2K     \u001b[90m━━━━━━━━━━━━━━━━━━━━━━━━━━━━━━━━━━━━━━\u001b[0m \u001b[32m211.7/211.7 kB\u001b[0m \u001b[31m26.4 MB/s\u001b[0m eta \u001b[36m0:00:00\u001b[0m\n",
            "\u001b[?25hCollecting docker-pycreds>=0.4.0 (from wandb)\n",
            "  Downloading docker_pycreds-0.4.0-py2.py3-none-any.whl (9.0 kB)\n",
            "Requirement already satisfied: PyYAML in /usr/local/lib/python3.10/dist-packages (from wandb) (6.0)\n",
            "Collecting pathtools (from wandb)\n",
            "  Downloading pathtools-0.1.2.tar.gz (11 kB)\n",
            "  Preparing metadata (setup.py) ... \u001b[?25l\u001b[?25hdone\n",
            "Collecting setproctitle (from wandb)\n",
            "  Downloading setproctitle-1.3.2-cp310-cp310-manylinux_2_5_x86_64.manylinux1_x86_64.manylinux_2_17_x86_64.manylinux2014_x86_64.whl (30 kB)\n",
            "Requirement already satisfied: setuptools in /usr/local/lib/python3.10/dist-packages (from wandb) (67.7.2)\n",
            "Requirement already satisfied: appdirs>=1.4.3 in /usr/local/lib/python3.10/dist-packages (from wandb) (1.4.4)\n",
            "Requirement already satisfied: protobuf!=4.21.0,<5,>=3.19.0 in /usr/local/lib/python3.10/dist-packages (from wandb) (3.20.3)\n",
            "Requirement already satisfied: six>=1.4.0 in /usr/local/lib/python3.10/dist-packages (from docker-pycreds>=0.4.0->wandb) (1.16.0)\n",
            "Collecting gitdb<5,>=4.0.1 (from GitPython!=3.1.29,>=1.0.0->wandb)\n",
            "  Downloading gitdb-4.0.10-py3-none-any.whl (62 kB)\n",
            "\u001b[2K     \u001b[90m━━━━━━━━━━━━━━━━━━━━━━━━━━━━━━━━━━━━━━━━\u001b[0m \u001b[32m62.7/62.7 kB\u001b[0m \u001b[31m6.8 MB/s\u001b[0m eta \u001b[36m0:00:00\u001b[0m\n",
            "\u001b[?25hRequirement already satisfied: urllib3<1.27,>=1.21.1 in /usr/local/lib/python3.10/dist-packages (from requests<3,>=2.0.0->wandb) (1.26.16)\n",
            "Requirement already satisfied: certifi>=2017.4.17 in /usr/local/lib/python3.10/dist-packages (from requests<3,>=2.0.0->wandb) (2023.5.7)\n",
            "Requirement already satisfied: charset-normalizer~=2.0.0 in /usr/local/lib/python3.10/dist-packages (from requests<3,>=2.0.0->wandb) (2.0.12)\n",
            "Requirement already satisfied: idna<4,>=2.5 in /usr/local/lib/python3.10/dist-packages (from requests<3,>=2.0.0->wandb) (3.4)\n",
            "Collecting smmap<6,>=3.0.1 (from gitdb<5,>=4.0.1->GitPython!=3.1.29,>=1.0.0->wandb)\n",
            "  Downloading smmap-5.0.0-py3-none-any.whl (24 kB)\n",
            "Building wheels for collected packages: pathtools\n",
            "  Building wheel for pathtools (setup.py) ... \u001b[?25l\u001b[?25hdone\n",
            "  Created wheel for pathtools: filename=pathtools-0.1.2-py3-none-any.whl size=8791 sha256=89bb9cc30660a6a0df67a79c4a8583d4e3cac1992dfad805029f758bee85ce5b\n",
            "  Stored in directory: /root/.cache/pip/wheels/e7/f3/22/152153d6eb222ee7a56ff8617d80ee5207207a8c00a7aab794\n",
            "Successfully built pathtools\n",
            "Installing collected packages: pathtools, smmap, setproctitle, sentry-sdk, docker-pycreds, gitdb, GitPython, wandb\n",
            "Successfully installed GitPython-3.1.31 docker-pycreds-0.4.0 gitdb-4.0.10 pathtools-0.1.2 sentry-sdk-1.27.1 setproctitle-1.3.2 smmap-5.0.0 wandb-0.15.5\n"
          ]
        }
      ]
    },
    {
      "cell_type": "code",
      "source": [
        "# Import libraries\n",
        "import torch\n",
        "import torch.nn as nn\n",
        "import torch.optim as optim\n",
        "import torch.nn.functional as F\n",
        "import torchvision\n",
        "import torchvision.transforms as transforms\n",
        "import wandb"
      ],
      "metadata": {
        "id": "RLnsEd_FQiBO"
      },
      "execution_count": 2,
      "outputs": []
    },
    {
      "cell_type": "code",
      "source": [
        "wandb.login()\n",
        "if torch.cuda.is_available():\n",
        "  device='cuda'\n",
        "else:\n",
        "  device = 'cpu'"
      ],
      "metadata": {
        "colab": {
          "base_uri": "https://localhost:8080/",
          "height": 98
        },
        "id": "ugkT-e8oRQQd",
        "outputId": "715a66ee-d7e8-4806-d28d-5c8c1a3f25ea"
      },
      "execution_count": 3,
      "outputs": [
        {
          "output_type": "display_data",
          "data": {
            "text/plain": [
              "<IPython.core.display.Javascript object>"
            ],
            "application/javascript": [
              "\n",
              "        window._wandbApiKey = new Promise((resolve, reject) => {\n",
              "            function loadScript(url) {\n",
              "            return new Promise(function(resolve, reject) {\n",
              "                let newScript = document.createElement(\"script\");\n",
              "                newScript.onerror = reject;\n",
              "                newScript.onload = resolve;\n",
              "                document.body.appendChild(newScript);\n",
              "                newScript.src = url;\n",
              "            });\n",
              "            }\n",
              "            loadScript(\"https://cdn.jsdelivr.net/npm/postmate/build/postmate.min.js\").then(() => {\n",
              "            const iframe = document.createElement('iframe')\n",
              "            iframe.style.cssText = \"width:0;height:0;border:none\"\n",
              "            document.body.appendChild(iframe)\n",
              "            const handshake = new Postmate({\n",
              "                container: iframe,\n",
              "                url: 'https://wandb.ai/authorize'\n",
              "            });\n",
              "            const timeout = setTimeout(() => reject(\"Couldn't auto authenticate\"), 5000)\n",
              "            handshake.then(function(child) {\n",
              "                child.on('authorize', data => {\n",
              "                    clearTimeout(timeout)\n",
              "                    resolve(data)\n",
              "                });\n",
              "            });\n",
              "            })\n",
              "        });\n",
              "    "
            ]
          },
          "metadata": {}
        },
        {
          "output_type": "stream",
          "name": "stderr",
          "text": [
            "\u001b[34m\u001b[1mwandb\u001b[0m: Logging into wandb.ai. (Learn how to deploy a W&B server locally: https://wandb.me/wandb-server)\n",
            "\u001b[34m\u001b[1mwandb\u001b[0m: You can find your API key in your browser here: https://wandb.ai/authorize\n",
            "wandb: Paste an API key from your profile and hit enter, or press ctrl+c to quit:"
          ]
        },
        {
          "name": "stdout",
          "output_type": "stream",
          "text": [
            " ··········\n"
          ]
        },
        {
          "output_type": "stream",
          "name": "stderr",
          "text": [
            "\u001b[34m\u001b[1mwandb\u001b[0m: Appending key for api.wandb.ai to your netrc file: /root/.netrc\n"
          ]
        }
      ]
    },
    {
      "cell_type": "code",
      "execution_count": 4,
      "metadata": {
        "colab": {
          "base_uri": "https://localhost:8080/"
        },
        "id": "g-etGCOoQOaT",
        "outputId": "7843d162-a6ea-4762-f8cd-eef09e974937"
      },
      "outputs": [
        {
          "output_type": "stream",
          "name": "stdout",
          "text": [
            "Downloading https://www.cs.toronto.edu/~kriz/cifar-10-python.tar.gz to ./data/cifar-10-python.tar.gz\n"
          ]
        },
        {
          "output_type": "stream",
          "name": "stderr",
          "text": [
            "100%|██████████| 170498071/170498071 [00:01<00:00, 102866194.14it/s]\n"
          ]
        },
        {
          "output_type": "stream",
          "name": "stdout",
          "text": [
            "Extracting ./data/cifar-10-python.tar.gz to ./data\n",
            "Files already downloaded and verified\n"
          ]
        }
      ],
      "source": [
        "# Load CIFAR10 dataset\n",
        "transform = transforms.Compose(\n",
        "    [transforms.ToTensor(),\n",
        "    transforms.Normalize((0.5, 0.5, 0.5), (0.5, 0.5, 0.5))])\n",
        "\n",
        "trainset = torchvision.datasets.CIFAR10(root='./data', train=True,\n",
        "                                        download=True, transform=transform)\n",
        "testset = torchvision.datasets.CIFAR10(root='./data', train=False,\n",
        "                                       download=True, transform=transform)\n",
        "\n",
        "# Basic cnn model for classification\n",
        "class Net(nn.Module):\n",
        "    def __init__(self):\n",
        "        super(Net, self).__init__()\n",
        "        self.conv1 = nn.Conv2d(3, 6, 5)\n",
        "        self.pool = nn.MaxPool2d(2, 2)\n",
        "        self.conv2 = nn.Conv2d(6, 16, 5)\n",
        "        self.fc1 = nn.Linear(16 * 5 * 5, 120)\n",
        "        self.fc2 = nn.Linear(120, 84)\n",
        "        self.fc3 = nn.Linear(84, 10)\n",
        "\n",
        "    def forward(self, x):\n",
        "        x = self.pool(F.relu(self.conv1(x)))\n",
        "        x = self.pool(F.relu(self.conv2(x)))\n",
        "        x = x.view(-1, 16 * 5 * 5)\n",
        "        x = F.relu(self.fc1(x))\n",
        "        x = F.relu(self.fc2(x))\n",
        "        x = self.fc3(x)\n",
        "        return x\n",
        "\n"
      ]
    },
    {
      "cell_type": "code",
      "source": [
        "def train(net, inputloader, criterion, optimizer, epochs=5, aug=None):\n",
        "  wandb.init(project='cifar-10-curriculum')\n",
        "  trainLoader = inputloader\n",
        "  for epoch in range(epochs):\n",
        "      running_loss = 0.0\n",
        "      if aug != None and epoch > epochs/2:\n",
        "        trainLoader = aug\n",
        "      for i, data in enumerate(trainloader, 0):\n",
        "          inputs, labels = data\n",
        "          inputs = inputs.to(device)\n",
        "          labels = labels.to(device)\n",
        "\n",
        "          optimizer.zero_grad()\n",
        "          outputs = net(inputs)\n",
        "          loss = criterion(outputs, labels)\n",
        "          loss.backward()\n",
        "          optimizer.step()\n",
        "\n",
        "          running_loss += loss.item()\n",
        "            # Log the loss to wandb\n",
        "          if i % 500 == 499:\n",
        "              wandb.log({\"loss\": running_loss / 500})\n",
        "              print(f\"Loss: {running_loss/500}\")\n",
        "              running_loss = 0.0\n",
        "  print('Finished Training')\n",
        "\n",
        "def test(net, testloader):\n",
        "  correct = 0\n",
        "  total = 0\n",
        "  with torch.no_grad():\n",
        "      for data in testloader:\n",
        "          images, labels = data\n",
        "          images = images.to(device)\n",
        "          labels = labels.to(device)\n",
        "          outputs = net(images)\n",
        "          _, predicted = torch.max(outputs.data, 1)\n",
        "          total += labels.size(0)\n",
        "          correct += (predicted == labels).sum().item()\n",
        "\n",
        "  print('Accuracy of the network on the 10000 test images: %d %%' % (\n",
        "      100 * correct / total))\n",
        "\n",
        "  # Log the accuracy to wandb\n",
        "  wandb.log({\"accuracy\": 100 * correct / total})"
      ],
      "metadata": {
        "id": "d-G2gPR1QyRr"
      },
      "execution_count": 5,
      "outputs": []
    },
    {
      "cell_type": "code",
      "source": [
        "# Normal Training\n",
        "trainloader = torch.utils.data.DataLoader(trainset, batch_size=4,\n",
        "                                          shuffle=True, num_workers=2)\n",
        "testloader = torch.utils.data.DataLoader(testset, batch_size=4,\n",
        "                                         shuffle=False, num_workers=2)\n",
        "\n",
        "net = Net().to(device)\n",
        "criterion = nn.CrossEntropyLoss()\n",
        "optimizer = optim.SGD(net.parameters(), lr=0.001, momentum=0.9)\n",
        "\n",
        "print(\"Training with Normal Data\")\n",
        "train(net, trainloader, criterion, optimizer)\n",
        "test(net, testloader)\n",
        "\n",
        "# Transformed Training\n",
        "transformed_trainset = torchvision.datasets.CIFAR10(root='./data', train=True,\n",
        "    download=True, transform=transforms.Compose([\n",
        "    transforms.RandomHorizontalFlip(),\n",
        "    transforms.RandomCrop(32, padding=4),\n",
        "    transforms.ToTensor(),\n",
        "    transforms.Normalize((0.5, 0.5, 0.5), (0.5, 0.5, 0.5))]))\n",
        "\n",
        "trainloaderTransform = torch.utils.data.DataLoader(transformed_trainset, batch_size=4,\n",
        "                                          shuffle=True, num_workers=2)\n",
        "\n",
        "net = Net().to(device)\n",
        "criterion = nn.CrossEntropyLoss()\n",
        "optimizer = optim.SGD(net.parameters(), lr=0.001, momentum=0.9)\n",
        "\n",
        "print(\"Training with Transformed Data\")\n",
        "train(net, trainloaderTransform, criterion, optimizer)\n",
        "test(net, testloader)\n",
        "\n",
        "# Curriculum Learning: Start training on normal examples then on transformed examples\n",
        "# Curriculum Learning: Start training on normal examples then on transformed examples\n",
        "normalLoader = torch.utils.data.DataLoader(trainset, batch_size=4, shuffle=True, num_workers=2)\n",
        "augmentedLoader = torch.utils.data.DataLoader(transformed_trainset, batch_size=4, shuffle=True, num_workers=2)\n",
        "\n",
        "net = Net().to(device)\n",
        "criterion = nn.CrossEntropyLoss()\n",
        "optimizer = optim.SGD(net.parameters(), lr=0.001, momentum=0.9)\n",
        "\n",
        "print(\"Training with Curriculum Learning: Normal Data\")\n",
        "train(net, trainloader, criterion, optimizer, epochs=3)\n",
        "train(net, trainloaderTransform, criterion, optimizer, epochs=2)\n",
        "test(net,testloader)\n",
        "# Save the model in wandb after training\n",
        "torch.save(net.state_dict(), 'model.pth')\n",
        "wandb.save('model.pth')"
      ],
      "metadata": {
        "colab": {
          "base_uri": "https://localhost:8080/",
          "height": 1000,
          "referenced_widgets": [
            "954ca0decb3446bb99a3ed386b1f246b",
            "6e2b69728429477f9c9a20b6a4f2963e",
            "14ff381939a942978c30d04e368d37c3",
            "a42c230880ad494094969fd8953c4fdc",
            "36ef55f36f8e4d6793e825adba6fc739",
            "64ee451bee854fe4ab3c85adf16937d0",
            "e543ff4f280a455da73472f026ccd67f",
            "e434d9fe564d4d24bc40d8de5b83bea5",
            "e46455db47a64a42ad8811d2c22d8104",
            "e49533fb03754ede98595155c8181c79",
            "53e1dbe0f1774a91979b2f1036e5956e",
            "1e9bc2f4fb8947acad6b087623bf6c5c",
            "f8b57ea6ba8c46b6b789412a4b533d44",
            "4d0123dd6c1643d2bcb48618f76c39f5",
            "4afeed2b6c6246deb3eb251fe6cc249f",
            "a1b23daa83d9411aae8411e09eb84a87"
          ]
        },
        "id": "Nt9Qld9LQ82o",
        "outputId": "bc31231a-2738-4cf1-bfad-de689ca73101"
      },
      "execution_count": 7,
      "outputs": [
        {
          "output_type": "stream",
          "name": "stdout",
          "text": [
            "Training with Normal Data\n"
          ]
        },
        {
          "output_type": "display_data",
          "data": {
            "text/plain": [
              "<IPython.core.display.HTML object>"
            ],
            "text/html": [
              "Finishing last run (ID:jdpe4vwi) before initializing another..."
            ]
          },
          "metadata": {}
        },
        {
          "output_type": "display_data",
          "data": {
            "text/plain": [
              "<IPython.core.display.HTML object>"
            ],
            "text/html": [
              "Waiting for W&B process to finish... <strong style=\"color:green\">(success).</strong>"
            ]
          },
          "metadata": {}
        },
        {
          "output_type": "display_data",
          "data": {
            "text/plain": [
              "VBox(children=(Label(value='0.240 MB of 0.240 MB uploaded (0.000 MB deduped)\\r'), FloatProgress(value=1.0, max…"
            ],
            "application/vnd.jupyter.widget-view+json": {
              "version_major": 2,
              "version_minor": 0,
              "model_id": "954ca0decb3446bb99a3ed386b1f246b"
            }
          },
          "metadata": {}
        },
        {
          "output_type": "display_data",
          "data": {
            "text/plain": [
              "<IPython.core.display.HTML object>"
            ],
            "text/html": [
              "<style>\n",
              "    table.wandb td:nth-child(1) { padding: 0 10px; text-align: left ; width: auto;} td:nth-child(2) {text-align: left ; width: 100%}\n",
              "    .wandb-row { display: flex; flex-direction: row; flex-wrap: wrap; justify-content: flex-start; width: 100% }\n",
              "    .wandb-col { display: flex; flex-direction: column; flex-basis: 100%; flex: 1; padding: 10px; }\n",
              "    </style>\n",
              "<div class=\"wandb-row\"><div class=\"wandb-col\"><h3>Run history:</h3><br/><table class=\"wandb\"><tr><td>accuracy</td><td>▁</td></tr><tr><td>loss</td><td>█▇▆▅▄▄▄▄▃▃▃▃▃▃▃▃▂▂▂▂▂▂▂▂▂▂▂▂▁▁▁▁▂▁▁▁▁▁▁▁</td></tr></table><br/></div><div class=\"wandb-col\"><h3>Run summary:</h3><br/><table class=\"wandb\"><tr><td>accuracy</td><td>55.53</td></tr><tr><td>loss</td><td>1.34182</td></tr></table><br/></div></div>"
            ]
          },
          "metadata": {}
        },
        {
          "output_type": "display_data",
          "data": {
            "text/plain": [
              "<IPython.core.display.HTML object>"
            ],
            "text/html": [
              " View run <strong style=\"color:#cdcd00\">gallant-glade-12</strong> at: <a href='https://wandb.ai/skalinow/cifar-10-curriculum/runs/jdpe4vwi' target=\"_blank\">https://wandb.ai/skalinow/cifar-10-curriculum/runs/jdpe4vwi</a><br/>Synced 5 W&B file(s), 0 media file(s), 0 artifact file(s) and 1 other file(s)"
            ]
          },
          "metadata": {}
        },
        {
          "output_type": "display_data",
          "data": {
            "text/plain": [
              "<IPython.core.display.HTML object>"
            ],
            "text/html": [
              "Find logs at: <code>./wandb/run-20230707_090733-jdpe4vwi/logs</code>"
            ]
          },
          "metadata": {}
        },
        {
          "output_type": "display_data",
          "data": {
            "text/plain": [
              "<IPython.core.display.HTML object>"
            ],
            "text/html": [
              "Successfully finished last run (ID:jdpe4vwi). Initializing new run:<br/>"
            ]
          },
          "metadata": {}
        },
        {
          "output_type": "display_data",
          "data": {
            "text/plain": [
              "<IPython.core.display.HTML object>"
            ],
            "text/html": [
              "Tracking run with wandb version 0.15.5"
            ]
          },
          "metadata": {}
        },
        {
          "output_type": "display_data",
          "data": {
            "text/plain": [
              "<IPython.core.display.HTML object>"
            ],
            "text/html": [
              "Run data is saved locally in <code>/content/wandb/run-20230707_092041-lizmhj07</code>"
            ]
          },
          "metadata": {}
        },
        {
          "output_type": "display_data",
          "data": {
            "text/plain": [
              "<IPython.core.display.HTML object>"
            ],
            "text/html": [
              "Syncing run <strong><a href='https://wandb.ai/skalinow/cifar-10-curriculum/runs/lizmhj07' target=\"_blank\">easy-firefly-13</a></strong> to <a href='https://wandb.ai/skalinow/cifar-10-curriculum' target=\"_blank\">Weights & Biases</a> (<a href='https://wandb.me/run' target=\"_blank\">docs</a>)<br/>"
            ]
          },
          "metadata": {}
        },
        {
          "output_type": "display_data",
          "data": {
            "text/plain": [
              "<IPython.core.display.HTML object>"
            ],
            "text/html": [
              " View project at <a href='https://wandb.ai/skalinow/cifar-10-curriculum' target=\"_blank\">https://wandb.ai/skalinow/cifar-10-curriculum</a>"
            ]
          },
          "metadata": {}
        },
        {
          "output_type": "display_data",
          "data": {
            "text/plain": [
              "<IPython.core.display.HTML object>"
            ],
            "text/html": [
              " View run at <a href='https://wandb.ai/skalinow/cifar-10-curriculum/runs/lizmhj07' target=\"_blank\">https://wandb.ai/skalinow/cifar-10-curriculum/runs/lizmhj07</a>"
            ]
          },
          "metadata": {}
        },
        {
          "output_type": "stream",
          "name": "stdout",
          "text": [
            "Loss: 2.297978175163269\n",
            "Loss: 2.2255441834926604\n",
            "Loss: 2.0862493991851805\n",
            "Loss: 1.9798955466747283\n",
            "Loss: 1.9228882415294648\n",
            "Loss: 1.8458090317249298\n",
            "Loss: 1.7790764880180359\n",
            "Loss: 1.766755762219429\n",
            "Loss: 1.6958447407484054\n",
            "Loss: 1.7041249678134918\n",
            "Loss: 1.6774685114622117\n",
            "Loss: 1.6313792017698288\n",
            "Loss: 1.6214277245998383\n",
            "Loss: 1.6080850701332092\n",
            "Loss: 1.5686259409189225\n",
            "Loss: 1.5471848529577255\n",
            "Loss: 1.5465326497554779\n",
            "Loss: 1.5439244900345803\n",
            "Loss: 1.4967546699643135\n",
            "Loss: 1.5221444606781005\n",
            "Loss: 1.4884879332780838\n",
            "Loss: 1.4826671985983848\n",
            "Loss: 1.479960719048977\n",
            "Loss: 1.438953110039234\n",
            "Loss: 1.4256020321846008\n",
            "Loss: 1.4092968809604645\n",
            "Loss: 1.3693743135929108\n",
            "Loss: 1.4022363979220391\n",
            "Loss: 1.4267043988704682\n",
            "Loss: 1.4050057340264321\n",
            "Loss: 1.3603072600364685\n",
            "Loss: 1.3503976846635342\n",
            "Loss: 1.3689780922532082\n",
            "Loss: 1.3836105006635189\n",
            "Loss: 1.3623139261901378\n",
            "Loss: 1.353773936122656\n",
            "Loss: 1.3506781966090202\n",
            "Loss: 1.315790104418993\n",
            "Loss: 1.3277869950085879\n",
            "Loss: 1.3323861611485481\n",
            "Loss: 1.3283137333393098\n",
            "Loss: 1.3043563145697117\n",
            "Loss: 1.3055013392865658\n",
            "Loss: 1.3016418781876564\n",
            "Loss: 1.3176272853761912\n",
            "Loss: 1.3148709569573402\n",
            "Loss: 1.2289762431681157\n",
            "Loss: 1.2471081400215627\n",
            "Loss: 1.275473389416933\n",
            "Loss: 1.2780930698812007\n",
            "Loss: 1.2419781890511512\n",
            "Loss: 1.2125150754153728\n",
            "Loss: 1.2375329048782586\n",
            "Loss: 1.1694285287261008\n",
            "Loss: 1.1789486748725175\n",
            "Loss: 1.22607489798218\n",
            "Loss: 1.1720279090702534\n",
            "Loss: 1.1979004136025906\n",
            "Loss: 1.2187054916918278\n",
            "Loss: 1.2013890602737665\n",
            "Loss: 1.1919929976314305\n",
            "Loss: 1.1943551161885262\n",
            "Loss: 1.2131176892369986\n",
            "Loss: 1.1569186817705632\n",
            "Loss: 1.191365864276886\n",
            "Loss: 1.173673894137144\n",
            "Loss: 1.1961752407848836\n",
            "Loss: 1.2096629338562488\n",
            "Loss: 1.178642557501793\n",
            "Loss: 1.1515191538482905\n",
            "Loss: 1.166560152888298\n",
            "Loss: 1.1947696214169263\n",
            "Loss: 1.142203560680151\n",
            "Loss: 1.1910831296294928\n",
            "Loss: 1.152538458943367\n",
            "Loss: 1.106453128606081\n",
            "Loss: 1.0746104495078326\n",
            "Loss: 1.172885176450014\n",
            "Loss: 1.1134737957566976\n",
            "Loss: 1.1260376242250205\n",
            "Loss: 1.0747509414702654\n",
            "Loss: 1.1470835436061024\n",
            "Loss: 1.1059414021000267\n",
            "Loss: 1.0827398373298347\n",
            "Loss: 1.0841136828809976\n",
            "Loss: 1.1303212713748216\n",
            "Loss: 1.0739512207880617\n",
            "Loss: 1.0798410128355027\n",
            "Loss: 1.138662816554308\n",
            "Loss: 1.0690159869194031\n",
            "Loss: 1.0874248523265124\n",
            "Loss: 1.1574872658550739\n",
            "Loss: 1.0831585721746086\n",
            "Loss: 1.0798884541764855\n",
            "Loss: 1.072471524387598\n",
            "Loss: 1.0799636351913213\n",
            "Loss: 1.0914605551362038\n",
            "Loss: 1.034607833981514\n",
            "Loss: 1.1132533641159534\n",
            "Loss: 1.1148950116336345\n",
            "Loss: 1.0328649757802486\n",
            "Loss: 1.0052052590250968\n",
            "Loss: 1.0144600061029196\n",
            "Loss: 1.0750839353501798\n",
            "Loss: 1.0004705916270613\n",
            "Loss: 1.0206852011252194\n",
            "Loss: 1.0218008485957981\n",
            "Loss: 1.0364840510860085\n",
            "Loss: 1.0179794516600669\n",
            "Loss: 1.0517574127316476\n",
            "Loss: 1.0309599591642618\n",
            "Loss: 1.0620713713094592\n",
            "Loss: 1.0715976917985828\n",
            "Loss: 1.0320675755366684\n",
            "Loss: 1.0391792100742459\n",
            "Loss: 1.0498223242387175\n",
            "Loss: 1.0253916658759117\n",
            "Loss: 1.073516476828605\n",
            "Loss: 1.0210536084994675\n",
            "Loss: 0.9750608124956489\n",
            "Loss: 1.0418675153553485\n",
            "Loss: 0.9964959974437952\n",
            "Loss: 1.0062209956720471\n",
            "Loss: 1.0433320344090462\n",
            "Loss: 1.0106355045586823\n",
            "Finished Training\n",
            "Accuracy of the network on the 10000 test images: 60 %\n",
            "Files already downloaded and verified\n",
            "Training with Transformed Data\n"
          ]
        },
        {
          "output_type": "display_data",
          "data": {
            "text/plain": [
              "<IPython.core.display.HTML object>"
            ],
            "text/html": [
              "Finishing last run (ID:lizmhj07) before initializing another..."
            ]
          },
          "metadata": {}
        },
        {
          "output_type": "display_data",
          "data": {
            "text/plain": [
              "<IPython.core.display.HTML object>"
            ],
            "text/html": [
              "Waiting for W&B process to finish... <strong style=\"color:green\">(success).</strong>"
            ]
          },
          "metadata": {}
        },
        {
          "output_type": "display_data",
          "data": {
            "text/plain": [
              "<IPython.core.display.HTML object>"
            ],
            "text/html": [
              "<style>\n",
              "    table.wandb td:nth-child(1) { padding: 0 10px; text-align: left ; width: auto;} td:nth-child(2) {text-align: left ; width: 100%}\n",
              "    .wandb-row { display: flex; flex-direction: row; flex-wrap: wrap; justify-content: flex-start; width: 100% }\n",
              "    .wandb-col { display: flex; flex-direction: column; flex-basis: 100%; flex: 1; padding: 10px; }\n",
              "    </style>\n",
              "<div class=\"wandb-row\"><div class=\"wandb-col\"><h3>Run history:</h3><br/><table class=\"wandb\"><tr><td>accuracy</td><td>▁</td></tr><tr><td>loss</td><td>█▆▅▅▄▄▄▄▃▃▃▃▃▃▃▂▂▂▂▂▂▂▂▂▁▂▂▂▁▁▁▂▁▁▁▁▁▁▁▁</td></tr></table><br/></div><div class=\"wandb-col\"><h3>Run summary:</h3><br/><table class=\"wandb\"><tr><td>accuracy</td><td>60.43</td></tr><tr><td>loss</td><td>1.01064</td></tr></table><br/></div></div>"
            ]
          },
          "metadata": {}
        },
        {
          "output_type": "display_data",
          "data": {
            "text/plain": [
              "<IPython.core.display.HTML object>"
            ],
            "text/html": [
              " View run <strong style=\"color:#cdcd00\">easy-firefly-13</strong> at: <a href='https://wandb.ai/skalinow/cifar-10-curriculum/runs/lizmhj07' target=\"_blank\">https://wandb.ai/skalinow/cifar-10-curriculum/runs/lizmhj07</a><br/>Synced 5 W&B file(s), 0 media file(s), 0 artifact file(s) and 0 other file(s)"
            ]
          },
          "metadata": {}
        },
        {
          "output_type": "display_data",
          "data": {
            "text/plain": [
              "<IPython.core.display.HTML object>"
            ],
            "text/html": [
              "Find logs at: <code>./wandb/run-20230707_092041-lizmhj07/logs</code>"
            ]
          },
          "metadata": {}
        },
        {
          "output_type": "display_data",
          "data": {
            "text/plain": [
              "<IPython.core.display.HTML object>"
            ],
            "text/html": [
              "Successfully finished last run (ID:lizmhj07). Initializing new run:<br/>"
            ]
          },
          "metadata": {}
        },
        {
          "output_type": "display_data",
          "data": {
            "text/plain": [
              "<IPython.core.display.HTML object>"
            ],
            "text/html": [
              "Tracking run with wandb version 0.15.5"
            ]
          },
          "metadata": {}
        },
        {
          "output_type": "display_data",
          "data": {
            "text/plain": [
              "<IPython.core.display.HTML object>"
            ],
            "text/html": [
              "Run data is saved locally in <code>/content/wandb/run-20230707_092532-c5cw2nde</code>"
            ]
          },
          "metadata": {}
        },
        {
          "output_type": "display_data",
          "data": {
            "text/plain": [
              "<IPython.core.display.HTML object>"
            ],
            "text/html": [
              "Syncing run <strong><a href='https://wandb.ai/skalinow/cifar-10-curriculum/runs/c5cw2nde' target=\"_blank\">leafy-wave-14</a></strong> to <a href='https://wandb.ai/skalinow/cifar-10-curriculum' target=\"_blank\">Weights & Biases</a> (<a href='https://wandb.me/run' target=\"_blank\">docs</a>)<br/>"
            ]
          },
          "metadata": {}
        },
        {
          "output_type": "display_data",
          "data": {
            "text/plain": [
              "<IPython.core.display.HTML object>"
            ],
            "text/html": [
              " View project at <a href='https://wandb.ai/skalinow/cifar-10-curriculum' target=\"_blank\">https://wandb.ai/skalinow/cifar-10-curriculum</a>"
            ]
          },
          "metadata": {}
        },
        {
          "output_type": "display_data",
          "data": {
            "text/plain": [
              "<IPython.core.display.HTML object>"
            ],
            "text/html": [
              " View run at <a href='https://wandb.ai/skalinow/cifar-10-curriculum/runs/c5cw2nde' target=\"_blank\">https://wandb.ai/skalinow/cifar-10-curriculum/runs/c5cw2nde</a>"
            ]
          },
          "metadata": {}
        },
        {
          "output_type": "stream",
          "name": "stdout",
          "text": [
            "Loss: 2.3024748015403746\n",
            "Loss: 2.298315933227539\n",
            "Loss: 2.272396462440491\n",
            "Loss: 2.1058586480617523\n",
            "Loss: 1.997493007659912\n",
            "Loss: 1.8945587503910064\n",
            "Loss: 1.8201909369230271\n",
            "Loss: 1.773915493130684\n",
            "Loss: 1.7089863454103469\n",
            "Loss: 1.7235103439092636\n",
            "Loss: 1.6530662940740586\n",
            "Loss: 1.6406683470010757\n",
            "Loss: 1.574110768198967\n",
            "Loss: 1.5913887355327607\n",
            "Loss: 1.592277640938759\n",
            "Loss: 1.5618173005580902\n",
            "Loss: 1.534687442779541\n",
            "Loss: 1.4937778004109858\n",
            "Loss: 1.4418753499388695\n",
            "Loss: 1.4621395069360732\n",
            "Loss: 1.4511635722517968\n",
            "Loss: 1.4575303582549095\n",
            "Loss: 1.4573650490045547\n",
            "Loss: 1.439979199588299\n",
            "Loss: 1.4073495568633079\n",
            "Loss: 1.37481294798851\n",
            "Loss: 1.3488082140088082\n",
            "Loss: 1.3808560036420823\n",
            "Loss: 1.3419456604123114\n",
            "Loss: 1.3481253707259893\n",
            "Loss: 1.3027082492709159\n",
            "Loss: 1.356162904381752\n",
            "Loss: 1.308189390540123\n",
            "Loss: 1.3240607059597969\n",
            "Loss: 1.3053435969650746\n",
            "Loss: 1.294950517207384\n",
            "Loss: 1.3151400989890099\n",
            "Loss: 1.2759876271784305\n",
            "Loss: 1.295755820453167\n",
            "Loss: 1.292619519084692\n",
            "Loss: 1.2550458489358425\n",
            "Loss: 1.2473357687294484\n",
            "Loss: 1.2222041031122208\n",
            "Loss: 1.2779828200936318\n",
            "Loss: 1.2469777655303478\n",
            "Loss: 1.2093441915214063\n",
            "Loss: 1.226577452108264\n",
            "Loss: 1.1719408231973647\n",
            "Loss: 1.2511158998012544\n",
            "Loss: 1.2499474032223226\n",
            "Loss: 1.16278577581048\n",
            "Loss: 1.1193856738954782\n",
            "Loss: 1.178125327527523\n",
            "Loss: 1.146004015892744\n",
            "Loss: 1.1540026643425225\n",
            "Loss: 1.1633870648145677\n",
            "Loss: 1.121108431711793\n",
            "Loss: 1.1539395079910755\n",
            "Loss: 1.1282186036407948\n",
            "Loss: 1.1794378951191902\n",
            "Loss: 1.156640762090683\n",
            "Loss: 1.131777343980968\n",
            "Loss: 1.127262771934271\n",
            "Loss: 1.1452160235345363\n",
            "Loss: 1.1247202268838883\n",
            "Loss: 1.151506439499557\n",
            "Loss: 1.151968209207058\n",
            "Loss: 1.1475822536870837\n",
            "Loss: 1.1234731823205948\n",
            "Loss: 1.1388392357826234\n",
            "Loss: 1.1477008119225502\n",
            "Loss: 1.1260314344614744\n",
            "Loss: 1.1387360587716102\n",
            "Loss: 1.1275507693886757\n",
            "Loss: 1.132199591577053\n",
            "Loss: 1.0421857952028513\n",
            "Loss: 0.9932268423438072\n",
            "Loss: 1.0545636267960072\n",
            "Loss: 0.9974276484586299\n",
            "Loss: 1.0782550439536571\n",
            "Loss: 1.068671927858144\n",
            "Loss: 1.0252190666347742\n",
            "Loss: 1.013404006049037\n",
            "Loss: 1.0543002898991107\n",
            "Loss: 0.9967272918522357\n",
            "Loss: 1.046811041712761\n",
            "Loss: 0.9990637683570385\n",
            "Loss: 1.0639114714488387\n",
            "Loss: 1.0634382112771272\n",
            "Loss: 1.0147865468412638\n",
            "Loss: 1.0342331037074328\n",
            "Loss: 1.0552532724440098\n",
            "Loss: 1.0430680263042449\n",
            "Loss: 1.0805195846520363\n",
            "Loss: 1.0667786988541483\n",
            "Loss: 1.0360742680951953\n",
            "Loss: 1.0663330588564277\n",
            "Loss: 1.0420385220870376\n",
            "Loss: 1.0506739360913635\n",
            "Loss: 1.096294647321105\n",
            "Loss: 0.9526487604491413\n",
            "Loss: 0.9627812669351697\n",
            "Loss: 0.9807211426980793\n",
            "Loss: 0.9448547595515847\n",
            "Loss: 0.9411971433050931\n",
            "Loss: 1.0076487271487713\n",
            "Loss: 0.9640573859587311\n",
            "Loss: 0.9880516348183155\n",
            "Loss: 0.9628967235200107\n",
            "Loss: 0.9518297988157719\n",
            "Loss: 0.9821407985538244\n",
            "Loss: 1.0238851168043912\n",
            "Loss: 0.9951422016024589\n",
            "Loss: 1.0256070149745793\n",
            "Loss: 0.9890137585401535\n",
            "Loss: 0.9935072871185839\n",
            "Loss: 0.9810166769884526\n",
            "Loss: 1.0355689133554697\n",
            "Loss: 0.9903560866862535\n",
            "Loss: 1.0181943661421538\n",
            "Loss: 0.9328161321673543\n",
            "Loss: 0.9193043881058693\n",
            "Loss: 0.9880626404434443\n",
            "Loss: 0.991569090589881\n",
            "Loss: 1.0057506700158119\n",
            "Finished Training\n",
            "Accuracy of the network on the 10000 test images: 61 %\n",
            "Training with Curriculum Learning: Normal Data\n"
          ]
        },
        {
          "output_type": "display_data",
          "data": {
            "text/plain": [
              "<IPython.core.display.HTML object>"
            ],
            "text/html": [
              "Finishing last run (ID:c5cw2nde) before initializing another..."
            ]
          },
          "metadata": {}
        },
        {
          "output_type": "display_data",
          "data": {
            "text/plain": [
              "<IPython.core.display.HTML object>"
            ],
            "text/html": [
              "Waiting for W&B process to finish... <strong style=\"color:green\">(success).</strong>"
            ]
          },
          "metadata": {}
        },
        {
          "output_type": "display_data",
          "data": {
            "text/plain": [
              "VBox(children=(Label(value='0.001 MB of 0.001 MB uploaded (0.000 MB deduped)\\r'), FloatProgress(value=1.0, max…"
            ],
            "application/vnd.jupyter.widget-view+json": {
              "version_major": 2,
              "version_minor": 0,
              "model_id": "e46455db47a64a42ad8811d2c22d8104"
            }
          },
          "metadata": {}
        },
        {
          "output_type": "display_data",
          "data": {
            "text/plain": [
              "<IPython.core.display.HTML object>"
            ],
            "text/html": [
              "<style>\n",
              "    table.wandb td:nth-child(1) { padding: 0 10px; text-align: left ; width: auto;} td:nth-child(2) {text-align: left ; width: 100%}\n",
              "    .wandb-row { display: flex; flex-direction: row; flex-wrap: wrap; justify-content: flex-start; width: 100% }\n",
              "    .wandb-col { display: flex; flex-direction: column; flex-basis: 100%; flex: 1; padding: 10px; }\n",
              "    </style>\n",
              "<div class=\"wandb-row\"><div class=\"wandb-col\"><h3>Run history:</h3><br/><table class=\"wandb\"><tr><td>accuracy</td><td>▁</td></tr><tr><td>loss</td><td>█▇▆▅▄▄▄▄▃▃▃▃▃▃▃▂▂▂▂▂▂▂▂▂▁▂▁▂▁▂▂▂▁▁▁▁▁▂▁▁</td></tr></table><br/></div><div class=\"wandb-col\"><h3>Run summary:</h3><br/><table class=\"wandb\"><tr><td>accuracy</td><td>61.0</td></tr><tr><td>loss</td><td>1.00575</td></tr></table><br/></div></div>"
            ]
          },
          "metadata": {}
        },
        {
          "output_type": "display_data",
          "data": {
            "text/plain": [
              "<IPython.core.display.HTML object>"
            ],
            "text/html": [
              " View run <strong style=\"color:#cdcd00\">leafy-wave-14</strong> at: <a href='https://wandb.ai/skalinow/cifar-10-curriculum/runs/c5cw2nde' target=\"_blank\">https://wandb.ai/skalinow/cifar-10-curriculum/runs/c5cw2nde</a><br/>Synced 5 W&B file(s), 0 media file(s), 0 artifact file(s) and 0 other file(s)"
            ]
          },
          "metadata": {}
        },
        {
          "output_type": "display_data",
          "data": {
            "text/plain": [
              "<IPython.core.display.HTML object>"
            ],
            "text/html": [
              "Find logs at: <code>./wandb/run-20230707_092532-c5cw2nde/logs</code>"
            ]
          },
          "metadata": {}
        },
        {
          "output_type": "display_data",
          "data": {
            "text/plain": [
              "<IPython.core.display.HTML object>"
            ],
            "text/html": [
              "Successfully finished last run (ID:c5cw2nde). Initializing new run:<br/>"
            ]
          },
          "metadata": {}
        },
        {
          "output_type": "display_data",
          "data": {
            "text/plain": [
              "<IPython.core.display.HTML object>"
            ],
            "text/html": [
              "Tracking run with wandb version 0.15.5"
            ]
          },
          "metadata": {}
        },
        {
          "output_type": "display_data",
          "data": {
            "text/plain": [
              "<IPython.core.display.HTML object>"
            ],
            "text/html": [
              "Run data is saved locally in <code>/content/wandb/run-20230707_093016-v3olpbyz</code>"
            ]
          },
          "metadata": {}
        },
        {
          "output_type": "display_data",
          "data": {
            "text/plain": [
              "<IPython.core.display.HTML object>"
            ],
            "text/html": [
              "Syncing run <strong><a href='https://wandb.ai/skalinow/cifar-10-curriculum/runs/v3olpbyz' target=\"_blank\">clean-leaf-15</a></strong> to <a href='https://wandb.ai/skalinow/cifar-10-curriculum' target=\"_blank\">Weights & Biases</a> (<a href='https://wandb.me/run' target=\"_blank\">docs</a>)<br/>"
            ]
          },
          "metadata": {}
        },
        {
          "output_type": "display_data",
          "data": {
            "text/plain": [
              "<IPython.core.display.HTML object>"
            ],
            "text/html": [
              " View project at <a href='https://wandb.ai/skalinow/cifar-10-curriculum' target=\"_blank\">https://wandb.ai/skalinow/cifar-10-curriculum</a>"
            ]
          },
          "metadata": {}
        },
        {
          "output_type": "display_data",
          "data": {
            "text/plain": [
              "<IPython.core.display.HTML object>"
            ],
            "text/html": [
              " View run at <a href='https://wandb.ai/skalinow/cifar-10-curriculum/runs/v3olpbyz' target=\"_blank\">https://wandb.ai/skalinow/cifar-10-curriculum/runs/v3olpbyz</a>"
            ]
          },
          "metadata": {}
        },
        {
          "output_type": "stream",
          "name": "stdout",
          "text": [
            "Loss: 2.3031026372909547\n",
            "Loss: 2.286165090560913\n",
            "Loss: 2.1935161893367767\n",
            "Loss: 2.0415911247730256\n",
            "Loss: 1.9717539274692535\n",
            "Loss: 1.8874446133375167\n",
            "Loss: 1.8500157750844954\n",
            "Loss: 1.8151082367897033\n",
            "Loss: 1.7307893394231797\n",
            "Loss: 1.7040085604190827\n",
            "Loss: 1.6609907054901123\n",
            "Loss: 1.6178744409680366\n",
            "Loss: 1.5923722318410873\n",
            "Loss: 1.6022363498210908\n",
            "Loss: 1.5735687564611436\n",
            "Loss: 1.5700633655786513\n",
            "Loss: 1.567354952275753\n",
            "Loss: 1.5240212404727935\n",
            "Loss: 1.5494854490756989\n",
            "Loss: 1.5378765276074409\n",
            "Loss: 1.4550044565796851\n",
            "Loss: 1.4558188856840133\n",
            "Loss: 1.484426328957081\n",
            "Loss: 1.4613259699940682\n",
            "Loss: 1.419522746503353\n",
            "Loss: 1.4194828647971154\n",
            "Loss: 1.410789497792721\n",
            "Loss: 1.4252662521004678\n",
            "Loss: 1.408457118988037\n",
            "Loss: 1.3910288268923758\n",
            "Loss: 1.3843841537833215\n",
            "Loss: 1.394004211127758\n",
            "Loss: 1.3532126961946487\n",
            "Loss: 1.3691512407660484\n",
            "Loss: 1.3311749114096165\n",
            "Loss: 1.3914020463526249\n",
            "Loss: 1.3427557989805936\n",
            "Loss: 1.3521537560522556\n",
            "Loss: 1.3552615171074867\n",
            "Loss: 1.2756456194221975\n",
            "Loss: 1.3419878624081611\n",
            "Loss: 1.3196865798532962\n",
            "Loss: 1.3168690797686577\n",
            "Loss: 1.309927786707878\n",
            "Loss: 1.363634084701538\n",
            "Loss: 1.3125991771519183\n",
            "Loss: 1.2764489811956883\n",
            "Loss: 1.3500990082025528\n",
            "Loss: 1.3143143506646155\n",
            "Loss: 1.2846875754594802\n",
            "Loss: 1.2587027480602264\n",
            "Loss: 1.2632241548001766\n",
            "Loss: 1.2530359795093537\n",
            "Loss: 1.2584650769233703\n",
            "Loss: 1.2219913245439529\n",
            "Loss: 1.2304915053546428\n",
            "Loss: 1.216032478198409\n",
            "Loss: 1.2394502230882645\n",
            "Loss: 1.2229312949180604\n",
            "Loss: 1.1949000005722046\n",
            "Loss: 1.186846116632223\n",
            "Loss: 1.1954333280771972\n",
            "Loss: 1.1808384682536126\n",
            "Loss: 1.2140062164366245\n",
            "Loss: 1.2211222744584083\n",
            "Loss: 1.2048003316670657\n",
            "Loss: 1.2207922908663749\n",
            "Loss: 1.2206033057272434\n",
            "Loss: 1.197644615367055\n",
            "Loss: 1.1928162500411272\n",
            "Loss: 1.229792282998562\n",
            "Loss: 1.1780050703287124\n",
            "Loss: 1.1766122933030128\n",
            "Loss: 1.187171851724386\n",
            "Loss: 1.1995378087162971\n",
            "Finished Training\n"
          ]
        },
        {
          "output_type": "display_data",
          "data": {
            "text/plain": [
              "<IPython.core.display.HTML object>"
            ],
            "text/html": [
              "Finishing last run (ID:v3olpbyz) before initializing another..."
            ]
          },
          "metadata": {}
        },
        {
          "output_type": "display_data",
          "data": {
            "text/plain": [
              "<IPython.core.display.HTML object>"
            ],
            "text/html": [
              "Waiting for W&B process to finish... <strong style=\"color:green\">(success).</strong>"
            ]
          },
          "metadata": {}
        },
        {
          "output_type": "display_data",
          "data": {
            "text/plain": [
              "<IPython.core.display.HTML object>"
            ],
            "text/html": [
              "<style>\n",
              "    table.wandb td:nth-child(1) { padding: 0 10px; text-align: left ; width: auto;} td:nth-child(2) {text-align: left ; width: 100%}\n",
              "    .wandb-row { display: flex; flex-direction: row; flex-wrap: wrap; justify-content: flex-start; width: 100% }\n",
              "    .wandb-col { display: flex; flex-direction: column; flex-basis: 100%; flex: 1; padding: 10px; }\n",
              "    </style>\n",
              "<div class=\"wandb-row\"><div class=\"wandb-col\"><h3>Run history:</h3><br/><table class=\"wandb\"><tr><td>loss</td><td>██▆▅▅▄▄▄▃▃▃▃▃▃▂▂▂▂▂▂▂▂▂▂▂▂▂▂▂▁▁▁▁▁▁▁▁▁▁▁</td></tr></table><br/></div><div class=\"wandb-col\"><h3>Run summary:</h3><br/><table class=\"wandb\"><tr><td>loss</td><td>1.19954</td></tr></table><br/></div></div>"
            ]
          },
          "metadata": {}
        },
        {
          "output_type": "display_data",
          "data": {
            "text/plain": [
              "<IPython.core.display.HTML object>"
            ],
            "text/html": [
              " View run <strong style=\"color:#cdcd00\">clean-leaf-15</strong> at: <a href='https://wandb.ai/skalinow/cifar-10-curriculum/runs/v3olpbyz' target=\"_blank\">https://wandb.ai/skalinow/cifar-10-curriculum/runs/v3olpbyz</a><br/>Synced 5 W&B file(s), 0 media file(s), 0 artifact file(s) and 0 other file(s)"
            ]
          },
          "metadata": {}
        },
        {
          "output_type": "display_data",
          "data": {
            "text/plain": [
              "<IPython.core.display.HTML object>"
            ],
            "text/html": [
              "Find logs at: <code>./wandb/run-20230707_093016-v3olpbyz/logs</code>"
            ]
          },
          "metadata": {}
        },
        {
          "output_type": "display_data",
          "data": {
            "text/plain": [
              "<IPython.core.display.HTML object>"
            ],
            "text/html": [
              "Successfully finished last run (ID:v3olpbyz). Initializing new run:<br/>"
            ]
          },
          "metadata": {}
        },
        {
          "output_type": "display_data",
          "data": {
            "text/plain": [
              "<IPython.core.display.HTML object>"
            ],
            "text/html": [
              "Tracking run with wandb version 0.15.5"
            ]
          },
          "metadata": {}
        },
        {
          "output_type": "display_data",
          "data": {
            "text/plain": [
              "<IPython.core.display.HTML object>"
            ],
            "text/html": [
              "Run data is saved locally in <code>/content/wandb/run-20230707_093303-o4zvkqbc</code>"
            ]
          },
          "metadata": {}
        },
        {
          "output_type": "display_data",
          "data": {
            "text/plain": [
              "<IPython.core.display.HTML object>"
            ],
            "text/html": [
              "Syncing run <strong><a href='https://wandb.ai/skalinow/cifar-10-curriculum/runs/o4zvkqbc' target=\"_blank\">super-frost-16</a></strong> to <a href='https://wandb.ai/skalinow/cifar-10-curriculum' target=\"_blank\">Weights & Biases</a> (<a href='https://wandb.me/run' target=\"_blank\">docs</a>)<br/>"
            ]
          },
          "metadata": {}
        },
        {
          "output_type": "display_data",
          "data": {
            "text/plain": [
              "<IPython.core.display.HTML object>"
            ],
            "text/html": [
              " View project at <a href='https://wandb.ai/skalinow/cifar-10-curriculum' target=\"_blank\">https://wandb.ai/skalinow/cifar-10-curriculum</a>"
            ]
          },
          "metadata": {}
        },
        {
          "output_type": "display_data",
          "data": {
            "text/plain": [
              "<IPython.core.display.HTML object>"
            ],
            "text/html": [
              " View run at <a href='https://wandb.ai/skalinow/cifar-10-curriculum/runs/o4zvkqbc' target=\"_blank\">https://wandb.ai/skalinow/cifar-10-curriculum/runs/o4zvkqbc</a>"
            ]
          },
          "metadata": {}
        },
        {
          "output_type": "stream",
          "name": "stdout",
          "text": [
            "Loss: 1.0869918142855168\n",
            "Loss: 1.110479244440794\n",
            "Loss: 1.1625303364247084\n",
            "Loss: 1.1173639398962258\n",
            "Loss: 1.1216248940080404\n",
            "Loss: 1.1455185522735118\n",
            "Loss: 1.1347975483983754\n",
            "Loss: 1.1382238976210355\n",
            "Loss: 1.127514985471964\n",
            "Loss: 1.1708383712917567\n",
            "Loss: 1.1317302220612764\n",
            "Loss: 1.1335107963830233\n",
            "Loss: 1.1367434515058994\n",
            "Loss: 1.1332891656011344\n",
            "Loss: 1.1476827265471221\n",
            "Loss: 1.1403328889012336\n",
            "Loss: 1.1476793823093177\n",
            "Loss: 1.1460343796014785\n",
            "Loss: 1.1133862878382206\n",
            "Loss: 1.1103349249958991\n",
            "Loss: 1.1480095807760955\n",
            "Loss: 1.1181915133595466\n",
            "Loss: 1.11602081874758\n",
            "Loss: 1.1323489962220192\n",
            "Loss: 1.0757169922105967\n",
            "Loss: 1.027612505711615\n",
            "Loss: 1.0735466218218208\n",
            "Loss: 1.0723423093110322\n",
            "Loss: 1.0831872099488973\n",
            "Loss: 1.014936152525246\n",
            "Loss: 1.0352993437796831\n",
            "Loss: 1.0517954688668252\n",
            "Loss: 1.0862175545543433\n",
            "Loss: 1.052161943331361\n",
            "Loss: 1.0827106609791517\n",
            "Loss: 1.0391405949816108\n",
            "Loss: 1.0665453854873777\n",
            "Loss: 1.0783128101713955\n",
            "Loss: 1.110246451575309\n",
            "Loss: 1.0282973987851292\n",
            "Loss: 1.040022022679448\n",
            "Loss: 1.1020857527554035\n",
            "Loss: 1.0928651526495814\n",
            "Loss: 1.0466086395829917\n",
            "Loss: 1.0892712055295706\n",
            "Loss: 1.0387964921817183\n",
            "Loss: 1.1029103187061846\n",
            "Loss: 1.0271687803938985\n",
            "Loss: 1.1155379302948714\n",
            "Loss: 1.0563212823867798\n",
            "Finished Training\n",
            "Accuracy of the network on the 10000 test images: 60 %\n"
          ]
        },
        {
          "output_type": "execute_result",
          "data": {
            "text/plain": [
              "['/content/wandb/run-20230707_093303-o4zvkqbc/files/model.pth']"
            ]
          },
          "metadata": {},
          "execution_count": 7
        }
      ]
    },
    {
      "cell_type": "code",
      "source": [],
      "metadata": {
        "id": "0XZEtd4MSUjZ"
      },
      "execution_count": 6,
      "outputs": []
    }
  ]
}